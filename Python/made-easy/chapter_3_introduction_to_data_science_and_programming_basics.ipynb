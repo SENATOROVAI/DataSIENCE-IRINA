{
  "nbformat": 4,
  "nbformat_minor": 0,
  "metadata": {
    "colab": {
      "provenance": [],
      "authorship_tag": "ABX9TyOn9EfU4ndLrdQaj3stWClI",
      "include_colab_link": true
    },
    "kernelspec": {
      "name": "python3",
      "display_name": "Python 3"
    },
    "language_info": {
      "name": "python"
    }
  },
  "cells": [
    {
      "cell_type": "markdown",
      "metadata": {
        "id": "view-in-github",
        "colab_type": "text"
      },
      "source": [
        "<a href=\"https://colab.research.google.com/github/IrinaViolin/DataSIENCE-IRINA/blob/main/Python/made-easy/chapter_3_introduction_to_data_science_and_programming_basics.ipynb\" target=\"_parent\"><img src=\"https://colab.research.google.com/assets/colab-badge.svg\" alt=\"Open In Colab\"/></a>"
      ]
    },
    {
      "cell_type": "markdown",
      "source": [
        "#**Основы Python**"
      ],
      "metadata": {
        "id": "lHY2ewD3Nrv9"
      }
    },
    {
      "cell_type": "markdown",
      "source": [
        "##**3.1. Запуск Python**"
      ],
      "metadata": {
        "id": "SY2QAqErOe-5"
      }
    },
    {
      "cell_type": "markdown",
      "source": [
        "Настало время изучить основы языка программирования Python. Необходимо, чтобы вы проделывали самостоятельно все, что мы будем обсуждать. Для этого нужно\n",
        "открыть Spyder IDE или Jupyter Notebook. И поэтому сперва я расскажу вам об\n",
        "основах работы с этими программами, а затем вы сможете поэкспериментировать\n",
        "самостоятельно и узнать больше"
      ],
      "metadata": {
        "id": "E6Z3YNwKOokU"
      }
    },
    {
      "cell_type": "markdown",
      "source": [
        "Для создания этой книги я использовал Jupyter Notebook, и вы увидите сходство\n",
        "этой книги с оформлением документов. Jupyter Notebook — это хорошая отправная\n",
        "точка для начала обучения. Вы можете запускать свой код в ячейках кода и писать\n",
        "свой текст в ячейках Markdown.\n"
      ],
      "metadata": {
        "id": "Wv2DcBpPOusv"
      }
    },
    {
      "cell_type": "markdown",
      "source": [
        "##**3.1.1. Использование Spyder IDE**"
      ],
      "metadata": {
        "id": "32alipFVO0Rm"
      }
    },
    {
      "cell_type": "markdown",
      "source": [
        "Интегрированная среда разработки Spyder имеет свой графический интерфейс. Мы\n",
        "уже установили приложение Anaconda, в состав которого входит и Spyder. Поэтому\n",
        "сначала откройте Anaconda Navigator (см. рис. 2.14)."
      ],
      "metadata": {
        "id": "fiqfXV1pO6nT"
      }
    },
    {
      "cell_type": "markdown",
      "source": [
        "Нажмите кнопку Launch под приложением Spyder. Откроется первое окно Spyder\n",
        "IDE со временным файлом (рис. 3.1)."
      ],
      "metadata": {
        "id": "FzsehD09PJmy"
      }
    },
    {
      "cell_type": "markdown",
      "source": [
        "Для начала изучения нам понадобятся три основных компонента Spyder IDE\n",
        "(рис. 3.2). Вы узнаете больше о компонентах или функциях, когда начнете работу\n",
        "со средой."
      ],
      "metadata": {
        "id": "UTFMu42zPW38"
      }
    },
    {
      "cell_type": "markdown",
      "source": [
        "* **Редактор**.   \n",
        "Редактор Spyder во многих отношениях лучше простого текстового\n",
        "редактора. Помните, что это IDE, и, следовательно, ее функционал гораздо шире\n",
        "и включает в себя, например, нумерацию строк, выделение синтаксиса (ключевые слова в синтаксисе подсвечиваются цветом), функции автозаполнения и\n",
        "многое другое. В этом многоязычном редакторе вы можете эффективно работать\n",
        "с функциями и классами, пользоваться инструментами анализа кода, автоматическим завершением кода, горизонтальным/вертикальным разделением и переходом к определению объекта"
      ],
      "metadata": {
        "id": "s9xGCxg9PYn3"
      }
    },
    {
      "cell_type": "markdown",
      "source": [
        "* **Консоль IPython**.   \n",
        "Вам доступны возможности любого количества консолей\n",
        "IPython в сочетании с гибкостью графического интерфейса. Вы можете запускать код по строкам, ячейкам или файлам, а также отображать графики прямо\n",
        "в строке."
      ],
      "metadata": {
        "id": "mEqf8Q-xPYye"
      }
    }
  ]
}